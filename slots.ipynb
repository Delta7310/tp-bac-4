{
 "cells": [
  {
   "cell_type": "code",
   "execution_count": 2,
   "metadata": {
    "collapsed": true
   },
   "outputs": [
    {
     "name": "stdout",
     "output_type": "stream",
     "text": [
      "In [2] used 0.0000 MiB RAM in 0.10s, peaked 0.00 MiB above current, total RAM usage 60.13 MiB\n"
     ]
    },
    {
     "name": "stderr",
     "output_type": "stream",
     "text": [
      "UsageError: Line magic function `%cat` not found.\n"
     ]
    }
   ],
   "source": [
    "import ipython_memory_usage.ipython_memory_usage as imu\n",
    "imu.start_watching_memory()\n",
    "\n",
    "class MyClass(object):\n",
    "    __slots__ = ['name', 'identifier']\n",
    "    def __init__(self, name, identifier):\n",
    "        self.name = name\n",
    "        self.identifier = identifier\n",
    "num = 1024*256\n",
    "x = [MyClass(1,1) for i in range(num)]\n",
    "\n",
    "\n",
    "class MyClass(object):\n",
    "        def __init__(self, name, identifier):\n",
    "                self.name = name\n",
    "                self.identifier = identifier\n",
    "\n",
    "num = 1024*256\n",
    "x = [MyClass(1,1) for i in range(num)]\n"
   ]
  }
 ],
 "metadata": {
  "kernelspec": {
   "display_name": "Python 3",
   "language": "python",
   "name": "python3"
  },
  "language_info": {
   "codemirror_mode": {
    "name": "ipython",
    "version": 2
   },
   "file_extension": ".py",
   "mimetype": "text/x-python",
   "name": "python",
   "nbconvert_exporter": "python",
   "pygments_lexer": "ipython2",
   "version": "2.7.6"
  }
 },
 "nbformat": 4,
 "nbformat_minor": 0
}