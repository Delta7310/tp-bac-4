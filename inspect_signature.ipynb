{
 "cells": [
  {
   "cell_type": "code",
   "execution_count": 2,
   "metadata": {
    "collapsed": true
   },
   "outputs": [
    {
     "name": "stdout",
     "output_type": "stream",
     "text": [
      "(a, *, b: int, **kwargs)\n",
      "b: int\n",
      "<class 'int'>\n"
     ]
    }
   ],
   "source": [
    "from inspect import signature\n",
    "def foo(a, *, b:int, **kwargs):\n",
    "    pass\n",
    "sig = signature(foo)\n",
    "print(str(sig))\n",
    "\n",
    "print(str(sig.parameters['b']))\n",
    "\n",
    "print(sig.parameters['b'].annotation)"
   ]
  }
 ],
 "metadata": {
  "kernelspec": {
   "display_name": "Python 3",
   "language": "python",
   "name": "python3"
  },
  "language_info": {
   "codemirror_mode": {
    "name": "ipython",
    "version": 2
   },
   "file_extension": ".py",
   "mimetype": "text/x-python",
   "name": "python",
   "nbconvert_exporter": "python",
   "pygments_lexer": "ipython2",
   "version": "2.7.6"
  }
 },
 "nbformat": 4,
 "nbformat_minor": 0
}