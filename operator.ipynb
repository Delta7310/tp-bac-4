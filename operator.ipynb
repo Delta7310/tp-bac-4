{
 "cells": [
  {
   "cell_type": "code",
   "execution_count": 12,
   "metadata": {
    "collapsed": true
   },
   "outputs": [
    {
     "name": "stdout",
     "output_type": "stream",
     "text": [
      "[MyObj(0), MyObj(1), MyObj(2), MyObj(3), MyObj(4)]\n",
      "[0, 1, 2, 3, 4]\n"
     ]
    }
   ],
   "source": [
    "# operator module has the concept of getters.\n",
    "# Getters are intended to incur less overhead than a lambda or python fonction\n",
    "from operator import *\n",
    "\n",
    "class MyObj(object):\n",
    "    \"\"\"example class for attrgetter\"\"\"\n",
    "    def __init__(self, arg):\n",
    "        super(MyObj, self).__init__()\n",
    "        self.arg = arg\n",
    "    def __repr__(self):\n",
    "        return 'MyObj(%s)' % self.arg\n",
    "\n",
    "l = [ MyObj(i) for i in range(5) ]\n",
    "print(l)\n",
    "g = attrgetter('arg')\n",
    "vals = [ g(i) for i in l ]\n",
    "print(vals)\n"
   ]
  },
  {
   "cell_type": "code",
   "execution_count": 8,
   "outputs": [
    {
     "name": "stdout",
     "output_type": "stream",
     "text": [
      "tu\n",
      "captain\n"
     ]
    }
   ],
   "source": [
    "def itemgetter(*items):\n",
    "    if len(items) == 1:\n",
    "        item = items[0]\n",
    "        def g(obj):\n",
    "            return obj[item]\n",
    "    else:\n",
    "        def g(obj):\n",
    "            return tuple(obj[item] for item in items)\n",
    "    return g\n",
    "res = itemgetter('name')({'name': 'tu', 'age': 18})\n",
    "print(res)\n",
    "\n",
    "soldier = dict(rank='captain', name='dotterbart')\n",
    "t = itemgetter('rank')(soldier)\n",
    "print(t)\n"
   ],
   "metadata": {
    "collapsed": false,
    "pycharm": {
     "name": "#%%\n"
    }
   }
  },
  {
   "cell_type": "code",
   "execution_count": 11,
   "outputs": [
    {
     "name": "stdout",
     "output_type": "stream",
     "text": [
      "Help on built-in function divmod in module builtins:\n",
      "\n",
      "divmod(x, y, /)\n",
      "    Return the tuple (x//y, x%y).  Invariant: div*y + mod == x.\n",
      "\n"
     ]
    },
    {
     "ename": "TypeError",
     "evalue": "divmod() takes no keyword arguments",
     "output_type": "error",
     "traceback": [
      "\u001B[1;31m---------------------------------------------------------------------------\u001B[0m",
      "\u001B[1;31mTypeError\u001B[0m                                 Traceback (most recent call last)",
      "\u001B[1;32m<ipython-input-11-6aeedfe3ceb8>\u001B[0m in \u001B[0;36m<module>\u001B[1;34m\u001B[0m\n\u001B[0;32m      3\u001B[0m \u001B[1;33m\u001B[0m\u001B[0m\n\u001B[0;32m      4\u001B[0m \u001B[0mhelp\u001B[0m\u001B[1;33m(\u001B[0m\u001B[0mdivmod\u001B[0m\u001B[1;33m)\u001B[0m\u001B[1;33m\u001B[0m\u001B[1;33m\u001B[0m\u001B[0m\n\u001B[1;32m----> 5\u001B[1;33m \u001B[0mdivmod\u001B[0m\u001B[1;33m(\u001B[0m\u001B[0mx\u001B[0m\u001B[1;33m=\u001B[0m\u001B[1;36m3\u001B[0m\u001B[1;33m,\u001B[0m \u001B[0my\u001B[0m\u001B[1;33m=\u001B[0m\u001B[1;36m4\u001B[0m\u001B[1;33m)\u001B[0m\u001B[1;33m\u001B[0m\u001B[1;33m\u001B[0m\u001B[0m\n\u001B[0m",
      "\u001B[1;31mTypeError\u001B[0m: divmod() takes no keyword arguments"
     ]
    }
   ],
   "source": [
    "# a slash(/) in a signature of a function denotes that the parameters\n",
    "# prior to it are positional-only.\n",
    "\n",
    "help(divmod)\n",
    "divmod(x=3, y=4)"
   ],
   "metadata": {
    "collapsed": false,
    "pycharm": {
     "name": "#%%\n"
    }
   }
  }
 ],
 "metadata": {
  "kernelspec": {
   "display_name": "Python 3",
   "language": "python",
   "name": "python3"
  },
  "language_info": {
   "codemirror_mode": {
    "name": "ipython",
    "version": 2
   },
   "file_extension": ".py",
   "mimetype": "text/x-python",
   "name": "python",
   "nbconvert_exporter": "python",
   "pygments_lexer": "ipython2",
   "version": "2.7.6"
  }
 },
 "nbformat": 4,
 "nbformat_minor": 0
}